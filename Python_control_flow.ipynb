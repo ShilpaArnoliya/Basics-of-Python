{
 "cells": [
  {
   "cell_type": "markdown",
   "metadata": {},
   "source": [
    "# Flow Control\n",
    "\n",
    "It is the order in which the program's statement executes at run time\n",
    "\n",
    "\n",
    "## 3 types\n",
    "\n",
    "### 1) Conditional / Selection Statements \n",
    "Execution of statement depending upon a condition test.\n",
    "\n",
    "\n",
    "python has 3 selection statements\n",
    "\n",
    "- if\n",
    "\n",
    "- if-else\n",
    "\n",
    "- if-elif-else\n",
    "\n",
    "### 2) Iterative / Looping Statements\n",
    "Statements that are repeated again and again.\n",
    "Allows a set of instruction to be performed repeatedly\n",
    "\n",
    "python has 2 Iterative statements\n",
    "- for\n",
    "\n",
    "\n",
    "- while\n",
    "\n",
    "\n",
    "### 3) Transfer / Jump Statements\n",
    "To transfer the control from one place to another.\n",
    "\n",
    "python has 3 transfer statements\n",
    "\n",
    "\n",
    "- break\n",
    "\n",
    "- continue\n",
    "\n",
    "- pass"
   ]
  },
  {
   "cell_type": "code",
   "execution_count": null,
   "metadata": {},
   "outputs": [],
   "source": []
  },
  {
   "cell_type": "markdown",
   "metadata": {},
   "source": [
    "#### Python supports the usual logical conditions from mathematics:\n",
    "\n",
    "Equals: a == b\n",
    "\n",
    "Not Equals: a != b\n",
    "\n",
    "Less than: a < b\n",
    "\n",
    "Less than or equal to: a <= b\n",
    "\n",
    "Greater than: a > b\n",
    "\n",
    "Greater than or equal to: a >= b\n",
    "\n",
    "These conditions can be used in several ways, most commonly in \"if statements\" and loops."
   ]
  },
  {
   "cell_type": "markdown",
   "metadata": {},
   "source": [
    "# 1)conditional statement \n",
    " Also known as selection statement. Selection of only one statement among multiple statement\n",
    " "
   ]
  },
  {
   "cell_type": "code",
   "execution_count": null,
   "metadata": {},
   "outputs": [],
   "source": [
    "#################################### If statement  ############################################\n",
    "\n",
    "# test for either true or false\n",
    "# if condition is true, set of statement is executed\n",
    "# if condition is false, ignore the block following the if condition\n",
    "# and continue with the next statement following after the if statement\n",
    "\n",
    "# SYNTAX\n",
    "# if <condition> :\n",
    "#    statement\n",
    "\n",
    "\n",
    "Name = input(\"Enter your Name\")\n",
    "\n",
    "if Name == 'john':\n",
    "    print('Hello  %s'  %Name)  # %s is used for strg\n",
    "print('how are you')\n",
    "\n",
    "\n"
   ]
  },
  {
   "cell_type": "code",
   "execution_count": null,
   "metadata": {},
   "outputs": [],
   "source": [
    "m=input('enter')\n",
    "print(type(m))"
   ]
  },
  {
   "cell_type": "code",
   "execution_count": null,
   "metadata": {},
   "outputs": [],
   "source": [
    "a=eval(input('enter a no'))\n",
    "b=40\n",
    "\n",
    "if a>b:\n",
    "    print(' a is greater than b')\n",
    "    \n",
    "print('you enter {}'.format(a))"
   ]
  },
  {
   "cell_type": "code",
   "execution_count": null,
   "metadata": {},
   "outputs": [],
   "source": [
    "#####################################  If-else statement  ############################################\n",
    "\n",
    "\n",
    "# if condition is true, set of statement is executed\n",
    "# if condition is false, ignore the block following the if condition\n",
    "# and continue with the else statement following after the if statement\n",
    "\n",
    "# The else keyword catches anything which isn't caught by the preceding conditions.\n",
    "\n",
    "# SYNTAX\n",
    "#if < condition >:\n",
    "#    action-1\n",
    "#else:\n",
    "#    action-2\n",
    "\n",
    "\n",
    "p=eval(input('enter p no'))\n",
    "q=30\n",
    "r=50\n",
    "\n",
    "\n",
    "if p>q:\n",
    "    print('p is greater than q')\n",
    "else:\n",
    "    print('p is lesser than q')"
   ]
  },
  {
   "cell_type": "code",
   "execution_count": null,
   "metadata": {},
   "outputs": [],
   "source": [
    "#####################################  If-elif statement  ############################################\n",
    "\n",
    "# if condition is true, set of statement is executed\n",
    "# if condition is false, ignore the block following the if condition\n",
    "\n",
    "# and continue with next elif condition if that is true, execute its statement\n",
    "# if false,ignore the block following the elif condition, \n",
    "\n",
    "#and so on till the last else statement following after the elif statement\n",
    "\n",
    "\n",
    "# The else keyword catches anything which isn't caught by the preceding conditions.\n",
    "# The elif keyword is pythons way of saying \"if the previous conditions were not true, then try this condition\"\n",
    "\n",
    "\n",
    "# SYNTAX\n",
    "#if < condition >:\n",
    "#    action-1\n",
    "#elif < condition >:\n",
    "#    action-2\n",
    "#elif < condition >:\n",
    "#    action-3\n",
    "#elif < condition >:\n",
    "#    action-4\n",
    "#else:\n",
    "#    statement\n",
    "\n",
    "\n",
    "x=eval(input('enter a no'))\n",
    "y=50\n",
    "if x>y:\n",
    "    print('x is greater than y')\n",
    "elif y>x:\n",
    "    print('y is greater than x')\n",
    "else:\n",
    "    print('x = y')"
   ]
  },
  {
   "cell_type": "markdown",
   "metadata": {},
   "source": [
    "# Short Hand If   ,   If-Else  /  TERNARY OPERATION \n",
    "If you have only one statement to execute, you can put it on the same line as the if statement.\n",
    "\n",
    "Ternary operator also known as conditional expressions that evaluate something based on condition being true or false.\n",
    "\n",
    "it simply allows to test a condition in a single line replacing the multiline if-else "
   ]
  },
  {
   "cell_type": "code",
   "execution_count": null,
   "metadata": {},
   "outputs": [],
   "source": [
    "# one line if statement\n",
    "\n",
    "a=eval(input('enter a no'))\n",
    "b=40\n",
    "\n",
    "if a > b: print(\"a is greater than b\")"
   ]
  },
  {
   "cell_type": "code",
   "execution_count": null,
   "metadata": {},
   "outputs": [],
   "source": [
    "#one line if-else\n",
    "\n",
    "a=eval(input('enter a no'))\n",
    "b=40\n",
    "\n",
    "print(\"a is greater than b\") if a>b else print('b is greater')"
   ]
  },
  {
   "cell_type": "code",
   "execution_count": null,
   "metadata": {},
   "outputs": [],
   "source": [
    "# Multiple else statement in one line\n",
    "\n",
    "a=eval(input('enter a no'))\n",
    "b=50\n",
    "\n",
    "print('a is greater than b') if a>b else print('a = b') if a==b else print('b is greater')\n",
    "\n",
    "# here we use an if-else statement under an if statement\n",
    "#if [if-else]"
   ]
  },
  {
   "cell_type": "markdown",
   "metadata": {},
   "source": [
    "# Logical Operators to combine conditional statements\n",
    "\n",
    "'AND'\n",
    "\n",
    "'OR'"
   ]
  },
  {
   "cell_type": "code",
   "execution_count": null,
   "metadata": {},
   "outputs": [],
   "source": [
    "####################################### AND ############################\n",
    "\n",
    "\n",
    "a = 200\n",
    "b = 33\n",
    "c = 500\n",
    "if a > b and c > a:\n",
    "    print(\"Both conditions are True\")\n",
    "\n"
   ]
  },
  {
   "cell_type": "code",
   "execution_count": null,
   "metadata": {},
   "outputs": [],
   "source": [
    "\n",
    "n1=eval(input('enter 1st no.'))\n",
    "n2=eval(input('enter 2nd no.'))\n",
    "n3=eval(input('enter 3rd no.'))\n",
    "\n",
    "if n1>n2 and n1>n3:\n",
    "    print('{} is biggest than {} and {}'.format(n1,n2,n3))\n",
    "elif n2>n1 and n2>n3:\n",
    "    print('{} is biggest than {} and {}'.format(n2,n1,n3))\n",
    "else:\n",
    "    print('{} is biggest than {} and {}'.format(n3,n1,n2))"
   ]
  },
  {
   "cell_type": "code",
   "execution_count": null,
   "metadata": {},
   "outputs": [],
   "source": [
    "#################################### OR ##################################\n",
    "\n",
    "a = 200\n",
    "b = 33\n",
    "c = 500\n",
    "if a > b or a > c:\n",
    "    print(\"At least one of the conditions is True\")\n"
   ]
  },
  {
   "cell_type": "markdown",
   "metadata": {},
   "source": [
    "# Nested If\n",
    "You can have if statements inside if statements, this is called nested if statements"
   ]
  },
  {
   "cell_type": "code",
   "execution_count": null,
   "metadata": {},
   "outputs": [],
   "source": [
    "x=eval(input('enter your marks'))\n",
    "\n",
    "if x < 34:\n",
    "\n",
    "    if x < 10:\n",
    "        print(\"fail and you cant stay in our\")\n",
    "    else:\n",
    "        print(\"fail.\")\n",
    "\n",
    "else:\n",
    "    print(' you pass')"
   ]
  },
  {
   "cell_type": "code",
   "execution_count": null,
   "metadata": {},
   "outputs": [],
   "source": [
    "if x>34:\n",
    "    print('you pass')\n",
    "elif x<34 and x>10:\n",
    "    print('you fail')\n",
    "else:\n",
    "    print('')"
   ]
  },
  {
   "cell_type": "markdown",
   "metadata": {},
   "source": [
    "# 2) Iterative / Looping Statements"
   ]
  },
  {
   "cell_type": "code",
   "execution_count": 9,
   "metadata": {},
   "outputs": [
    {
     "name": "stdout",
     "output_type": "stream",
     "text": [
      "1\n",
      "2\n",
      "3\n",
      "4\n",
      "5\n",
      "6\n",
      "7\n",
      "8\n",
      "9\n",
      "10\n"
     ]
    }
   ],
   "source": [
    "############################ while Loop  ###########################\n",
    "\n",
    "\n",
    "# With the while loop we can execute a set of statements as long as a condition is true.\n",
    "\n",
    "# SYNTAX\n",
    "#  Intilization statement\n",
    "# while<condition>:\n",
    "#     loop-body\n",
    "#     update statement\n",
    "\n",
    "\n",
    "i = 1 #(Intilization statement)\n",
    "while i <= 10:  #condition\n",
    "    print(i)   #loop body\n",
    "    i += 1    # update statement\n",
    "    \n",
    "\n",
    "#The while loop requires relevant variables to be ready, \n",
    "# In this example we need to define an indexing variable, i, which we set to 1.\n",
    "\n",
    "# remember to increment i(i +=), or else the loop will continue forever."
   ]
  },
  {
   "cell_type": "code",
   "execution_count": 10,
   "metadata": {},
   "outputs": [
    {
     "name": "stdout",
     "output_type": "stream",
     "text": [
      "5\n",
      "10\n",
      "15\n",
      "20\n",
      "25\n",
      "30\n",
      "35\n",
      "40\n",
      "45\n",
      "50\n",
      "its done till 50\n"
     ]
    }
   ],
   "source": [
    "i=5\n",
    "\n",
    "while i<=50:\n",
    "    print(i)\n",
    "    i += 5\n",
    "    \n",
    "\n",
    "print('its done till 50')"
   ]
  },
  {
   "cell_type": "code",
   "execution_count": null,
   "metadata": {},
   "outputs": [],
   "source": [
    "###################### FOR LOOPS ###########################\n",
    "\n",
    "# A for loop is used for iterating over a sequence (that is either a list, a tuple, a dictionary, a set, or a string).\n",
    "# With the for loop we can execute a set of statements, once for each item in a list, tuple, set etc.\n",
    "\n",
    "# SYNTAX\n",
    "\n",
    "# for <variable> in <sequence> :\n",
    "#     statement\n",
    "\n",
    "\n",
    "# for each element in sequence:\n",
    "#      do some action\n",
    "\n",
    "\n",
    "# sequence can be string,list,tuple,range,etc...\n",
    "\n",
    "for x in 'python':\n",
    "    print(x)\n",
    "    \n",
    "    \n",
    "p=[1,2,3,4,5,6,7,8,9]   \n",
    "for y in p:\n",
    "    print(y)"
   ]
  },
  {
   "cell_type": "markdown",
   "metadata": {},
   "source": [
    "### RANGE --> Definition and Usage\n",
    "The range() function returns a sequence of numbers, starting from 0 by default, and increments by 1 (by default), and stops before a specified number.\n",
    "\n",
    "#### Syntax\n",
    "range(start, stop, step)\n",
    "\n",
    "\n",
    "Parameter\tDescription\n",
    "\n",
    "start\tOptional. An integer number specifying at which position to start. Default is 0\n",
    "\n",
    "stop\tRequired. An integer number specifying at which position to stop (not included).\n",
    "\n",
    "step\tOptional. An integer number specifying the incrementation. Default is 1"
   ]
  },
  {
   "cell_type": "code",
   "execution_count": 1,
   "metadata": {},
   "outputs": [
    {
     "name": "stdout",
     "output_type": "stream",
     "text": [
      "2\n",
      "5\n",
      "8\n",
      "11\n",
      "14\n",
      "17\n",
      "20\n",
      "23\n",
      "26\n",
      "29\n"
     ]
    }
   ],
   "source": [
    "for x in range(2, 30, 3):\n",
    "    print(x)"
   ]
  },
  {
   "cell_type": "markdown",
   "metadata": {},
   "source": [
    "Diffrence between 'FOR' and 'WHILE' loop\n",
    "\n",
    "- when we know the number of iteration in advance i.e, how many times the loop will execute, only 10 times or 20 then we go for \"for\" loop\n",
    "\n",
    "- if we don't know iteration in advance as long as some condition is true then we go for \"while\" loop "
   ]
  },
  {
   "cell_type": "markdown",
   "metadata": {},
   "source": [
    "# 3) JUMP / TRANSFER STATEMENT\n",
    "\n"
   ]
  },
  {
   "cell_type": "code",
   "execution_count": null,
   "metadata": {},
   "outputs": [],
   "source": [
    "####################################  The break Statement  #############################\n",
    "\n",
    "# EXIT FROM LOOP\n",
    "# With the break statement we can stop the loop even if the while condition is true:\n",
    "\n",
    "i = 1\n",
    "while i < 6:\n",
    "    print(i)\n",
    "    if (i == 3):\n",
    "        break\n",
    "    i += 1\n",
    "    \n",
    "    \n"
   ]
  },
  {
   "cell_type": "code",
   "execution_count": null,
   "metadata": {},
   "outputs": [],
   "source": [
    "    \n",
    "# With the break statement we can stop the loop before it has looped through all the items:\n",
    "\n",
    "x = [1,2,3,4,5,6,7,8,9,10,11,12,13,14,15]\n",
    "\n",
    "for i in x:\n",
    "    print(i)\n",
    "    if i == 10:\n",
    "        break"
   ]
  },
  {
   "cell_type": "code",
   "execution_count": null,
   "metadata": {},
   "outputs": [],
   "source": [
    "################################ The continue Statement  #################################\n",
    "\n",
    "# SKIP CURRENT ITERATION AND CONTINUE FOR THE NEXT ITERATION. \n",
    "\n",
    "# With the continue statement we can stop the current iteration, and continue with the next:\n",
    "\n",
    "# Continue to the next iteration if i is 3:\n",
    "\n",
    "i = 0\n",
    "while i < 6:\n",
    "    i += 1\n",
    "    if i == 3:\n",
    "        continue\n",
    "    print(i)"
   ]
  },
  {
   "cell_type": "code",
   "execution_count": null,
   "metadata": {},
   "outputs": [],
   "source": [
    "# With the continue statement we can stop the current iteration of the loop, and continue with the next:\n",
    "\n",
    "\n",
    "y=[1,2,3,4,5,6,7,8,9,10,11,12,13,14,15]\n",
    "\n",
    "for i in y:\n",
    "    if i==10:\n",
    "        continue\n",
    "    print(i)\n"
   ]
  },
  {
   "cell_type": "code",
   "execution_count": null,
   "metadata": {},
   "outputs": [],
   "source": [
    "############################ The pass Statement  ##########################\n",
    "\n",
    "# AN EMPTY BLOCK WHICH WON'T DO ANYTHING\n",
    "\n",
    "# if statements cannot be empty, but if you for some reason have an if statement with no content, \n",
    "# put in the pass statement to avoid getting an error\n",
    "\n",
    "a = 33\n",
    "b = 200\n",
    "\n",
    "if b > a:\n",
    "    pass"
   ]
  },
  {
   "cell_type": "markdown",
   "metadata": {},
   "source": []
  }
 ],
 "metadata": {
  "kernelspec": {
   "display_name": "Python 3",
   "language": "python",
   "name": "python3"
  },
  "language_info": {
   "codemirror_mode": {
    "name": "ipython",
    "version": 3
   },
   "file_extension": ".py",
   "mimetype": "text/x-python",
   "name": "python",
   "nbconvert_exporter": "python",
   "pygments_lexer": "ipython3",
   "version": "3.7.1"
  }
 },
 "nbformat": 4,
 "nbformat_minor": 4
}
