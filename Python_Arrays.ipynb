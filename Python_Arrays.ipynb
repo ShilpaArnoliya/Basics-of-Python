{
 "cells": [
  {
   "cell_type": "markdown",
   "metadata": {},
   "source": [
    "# PYTHON BASICS"
   ]
  },
  {
   "cell_type": "code",
   "execution_count": null,
   "metadata": {},
   "outputs": [],
   "source": [
    "print(\"Hello world\") # \"# is used to give single line comment\"\n",
    "print(\"values are:\",1,2,3,4)"
   ]
  },
  {
   "cell_type": "code",
   "execution_count": null,
   "metadata": {},
   "outputs": [],
   "source": [
    "a = 10\n",
    "b = 2\n",
    "\n",
    "print(a)\n",
    "print(\"values of a & b:\",a,b )"
   ]
  },
  {
   "cell_type": "markdown",
   "metadata": {},
   "source": [
    " # STRINGS"
   ]
  },
  {
   "cell_type": "code",
   "execution_count": null,
   "metadata": {},
   "outputs": [],
   "source": [
    "s1='c is programming'\n",
    "s2='PYTHON IS BEST'\n",
    "s3='learn data scince'"
   ]
  },
  {
   "cell_type": "markdown",
   "metadata": {},
   "source": [
    "### Slicing"
   ]
  },
  {
   "cell_type": "code",
   "execution_count": null,
   "metadata": {},
   "outputs": [],
   "source": [
    "#SYNTAX\n",
    "#slice(start(0th), end(last), step(1))\n",
    "\n",
    "\n",
    "# USE len() TO GET THE LENGTH OF THE STRING\n",
    "\n",
    "#lenth(c1)=c(1) (2)i(3)s(4) (5)p(6)r(7)o(8)g(9)r(10)a(11)m(12)m(13)i(14)n(15)g(16)\n",
    "print(len(s1)) # this will gives length of the string & 0th values will be count as 1 not 0"
   ]
  },
  {
   "cell_type": "code",
   "execution_count": null,
   "metadata": {},
   "outputs": [],
   "source": [
    "#ACCESS ITEMS\n",
    "# POSITIVE SLICING/INDEXING\n",
    "\n",
    "#Indexing(c1)= c(0th) (1th)i(2th)s(3th) (4th)p(5th)r(6th)o(7th)g(8th)r(9th)a(10th)m(11th)m(12th)i(13th)n(14th)g(15th)\n",
    "\n",
    "print(s1[0]) # print from 0th value i.e 'c'\n",
    "print(s1[4]) # print from 4th value i.e 'O'\n",
    "print(s1[0:5]) # print from 0th to 4th value 'excluding 5th value'\n",
    "print(s1[3:9]) # print from 3rd to 8th value i.e 'rn dat' 'excluding 9th value'\n",
    "print(s1[0:])# print all the string from 0th to last value\n",
    "print(s1[:]) # print all the string from 0th(by default start from 0th index till last index value) to last value\n",
    "print(s1[::]) # this also print every thing all values oth string\n",
    "#            (as no parameter is given so by default taken stars from 0th index till last index value with no value of skiping)\n",
    "\n",
    "print(s1[0:16:2]) #Will return every alternative 2nd char starting from 0th value till 16th value of the string\n",
    "print(s1[2:14:3]) #lly return every 3rd char starting from 2nd to 14th value i.e 'ipgm'\n",
    "# here after 'm' the 3rd char will be 'n' which is 14th char but it wont include while runing the program\n",
    "\n"
   ]
  },
  {
   "cell_type": "code",
   "execution_count": null,
   "metadata": {},
   "outputs": [],
   "source": [
    "\n",
    "# NEGATIVE SLICING/INDEXING\n",
    "\n",
    "#Negetiv indexing(c1) = c(-16th) (-15th)i(-14th)s(-13th) (-12th)p(-11th)r(-10th)o(-9th)g(-8th)r(-7th)a(-6th)\n",
    "#                        m(-5th)m(-4th)i(-3th)n(-2th)g(-1th)\n",
    "\n",
    "print(s1[-16:-7])# print from -16rd i.e c to -8th value i.e 'g' 'excluding -7th value'\n",
    "print(s1[-16:])  # starts fro m -16th index till the last i.e -1th index value\n",
    "print(s1[:]) # starts from -16th index to last index with no skip value \n",
    "print(s1[-6::1]) # stats from -6th index i.e 'a' till last index with no skip value \n",
    "print(s1[-6::-1]) # stats from -6th index i.e 'a' till last index with -1 i.e 1 privious value\n",
    "# -6-(-1)=-6+1=-5 i.e 'm' will be the next value\n",
    "# -5-(-1)=-5+1=-4 i.e 'm' \n",
    "# -4-(-1)=-4+1=-3 i.e 'i'..... so on\n",
    "\n",
    "# lly by this we can reverse the string\n",
    "print(s1[::-1])\n",
    "\n",
    "\n",
    "\n",
    "# how to add two strings\n",
    "f = s1+s2\n",
    "print(f)\n",
    "#or\n",
    "print(s1+ '   '+s2)"
   ]
  },
  {
   "cell_type": "code",
   "execution_count": null,
   "metadata": {},
   "outputs": [],
   "source": [
    "#Check if Item Exists\n",
    "if 'dta' in s3:\n",
    "    print(\"yes,'data' is in s3 \")\n",
    "else :\n",
    "    print( 'no data is not in s3')"
   ]
  },
  {
   "cell_type": "markdown",
   "metadata": {},
   "source": [
    "# String Methods\n",
    "Note: All string methods returns new values. They do not change the original string."
   ]
  },
  {
   "cell_type": "markdown",
   "metadata": {},
   "source": [
    "s1='c is programming '\n",
    "s2='PYTHON IS BEST'\n",
    "s3='learn data scince'\n",
    "f = s1+s2+s3\n",
    "\n",
    "### Method\t          Description\n",
    "\n",
    "capitalize()\tConverts the first character to upper case\n",
    "\n",
    "casefold()\tConverts string into lower case\n",
    "\n",
    "center()\tReturns a centered string\n",
    "\n",
    "count()\tReturns the number of times a specified value occurs in a string\n",
    "\n",
    "encode()\tReturns an encoded version of the string\n",
    "\n",
    "endswith()\tReturns true if the string ends with the specified value\n",
    "\n",
    "expandtabs()\tSets the tab size of the string\n",
    "\n",
    "find()\tSearches the string for a specified value and returns the position of where it was found\n",
    "\n",
    "format()\tFormats specified values in a string\n",
    "\n",
    "format_map()\tFormats specified values in a string\n",
    "\n",
    "index()\tSearches the string for a specified value and returns the position of where it was found\n",
    "\n",
    "isalnum()\tReturns True if all characters in the string are alphanumeric\n",
    "\n",
    "isalpha()\tReturns True if all characters in the string are in the alphabet\n",
    "\n",
    "isdecimal()\tReturns True if all characters in the string are decimals\n",
    "\n",
    "isdigit()\tReturns True if all characters in the string are digits\n",
    "\n",
    "isidentifier()\tReturns True if the string is an identifier\n",
    "\n",
    "islower()\tReturns True if all characters in the string are lower case\n",
    "\n",
    "isnumeric()\tReturns True if all characters in the string are numeric\n",
    "\n",
    "isprintable()\tReturns True if all characters in the string are printable\n",
    "\n",
    "isspace()\tReturns True if all characters in the string are whitespaces\n",
    "\n",
    "istitle()\tReturns True if the string follows the rules of a title\n",
    "\n",
    "isupper()\tReturns True if all characters in the string are upper case\n",
    "\n",
    "join()\tJoins the elements of an iterable to the end of the string\n",
    "\n",
    "ljust()\tReturns a left justified version of the string\n",
    "\n",
    "lower()\tConverts a string into lower case\n",
    "\n",
    "lstrip()\tReturns a left trim version of the string\n",
    "\n",
    "maketrans()\tReturns a translation table to be used in translations\n",
    "\n",
    "partition()\tReturns a tuple where the string is parted into three parts\n",
    "\n",
    "replace()\tReturns a string where a specified value is replaced with a specified value\n",
    "\n",
    "rfind()\tSearches the string for a specified value and returns the last position of where it was found\n",
    "\n",
    "rindex()\tSearches the string for a specified value and returns the last position of where it was found\n",
    "\n",
    "rjust()\tReturns a right justified version of the string\n",
    "\n",
    "rpartition()\tReturns a tuple where the string is parted into three parts\n",
    "\n",
    "rsplit()\tSplits the string at the specified separator, and returns a list\n",
    "\n",
    "rstrip()\tReturns a right trim version of the string\n",
    "\n",
    "split()\tSplits the string at the specified separator, and returns a list\n",
    "\n",
    "splitlines()\tSplits the string at line breaks and returns a list\n",
    "\n",
    "startswith()\tReturns true if the string starts with the specified value\n",
    "\n",
    "strip()\tReturns a trimmed version of the string\n",
    "\n",
    "swapcase()\tSwaps cases, lower case becomes upper case and vice versa\n",
    "\n",
    "title()\tConverts the first character of each word to upper case\n",
    "\n",
    "translate()\tReturns a translated string\n",
    "\n",
    "upper()\tConverts a string into upper case\n",
    "\n",
    "zfill()\tFills the string with a specified number of 0 values at the beginning"
   ]
  },
  {
   "cell_type": "markdown",
   "metadata": {},
   "source": [
    "#### Other escape characters used in Python:\n",
    "\n",
    "Code\tResult\n",
    "\\'\t --->   Single Quote\t\n",
    "\\\\\t   ---> Backslash\t\n",
    "\\n\t   ---> New Line\t\n",
    "\\r\t   ---> Carriage Return\t\n",
    "\\t\t  --->   Tab\t\n",
    "\\b\t   ---> Backspace\t\n",
    "\\f\t   ---> Form Feed\t\n",
    "\\ooo   --->\tOctal value\t\n",
    "\\xhh   ---> Hex value\t\n"
   ]
  },
  {
   "cell_type": "code",
   "execution_count": null,
   "metadata": {},
   "outputs": [],
   "source": [
    "s1='c is programming '\n",
    "s2='PYTHON IS BEST'\n",
    "s3='learn data scince'\n",
    "f = s1+s2+s3"
   ]
  },
  {
   "cell_type": "code",
   "execution_count": null,
   "metadata": {},
   "outputs": [],
   "source": [
    "#capitalize()\tConverts the first character to upper case\n",
    "print(s1.capitalize())"
   ]
  },
  {
   "cell_type": "code",
   "execution_count": null,
   "metadata": {},
   "outputs": [],
   "source": [
    "#casefold()\tConverts string into lower case\n",
    "#print(s2.casefold())\n",
    "print(s2.lower())"
   ]
  },
  {
   "cell_type": "code",
   "execution_count": null,
   "metadata": {},
   "outputs": [],
   "source": [
    "#join()\tJoins the elements of an iterable to the end of the string\n",
    "print(s1)\n",
    "print(s1.join('HELLOO+'))"
   ]
  },
  {
   "cell_type": "markdown",
   "metadata": {},
   "source": [
    "# Python Collections (Arrays)\n",
    "\n",
    "There are four collection data types in the Python programming language:\n",
    "\n",
    "#### List is a collection which is ordered and changeable. Allows duplicate members.\n",
    "\n",
    "#### Tuple is a collection which is ordered and unchangeable. Allows duplicate members.\n",
    "\n",
    "#### Set is a collection which is unordered and unindexed. No duplicate members.\n",
    "\n",
    "#### Dictionary is a collection which is unordered, changeable and indexed. No duplicate members.\n",
    "\n"
   ]
  },
  {
   "cell_type": "markdown",
   "metadata": {},
   "source": [
    "# List\n",
    "A list is a collection which is ordered and changeable. In Python lists are written with square brackets.\n",
    "# [ ]"
   ]
  },
  {
   "cell_type": "code",
   "execution_count": null,
   "metadata": {},
   "outputs": [],
   "source": [
    "alist= [10,20,30,40,100,200,350,450 ]\n",
    "blist= ['python','java','hadoop']\n",
    "clist= [10,20,30,'java','django','python']\n",
    "dlist= ['this will be deleted']\n",
    "print(alist)\n",
    "print('list elements of blist are:',blist)"
   ]
  },
  {
   "cell_type": "code",
   "execution_count": null,
   "metadata": {},
   "outputs": [],
   "source": [
    "# change item value\n",
    "alist[0] ='25'\n",
    "print(alist)"
   ]
  },
  {
   "cell_type": "code",
   "execution_count": null,
   "metadata": {},
   "outputs": [],
   "source": [
    "# list concatenation\n",
    "\n",
    "flist=alist+blist+clist\n",
    "print(flist)\n"
   ]
  },
  {
   "cell_type": "code",
   "execution_count": null,
   "metadata": {},
   "outputs": [],
   "source": [
    "# ACCESS ITEMS\n",
    "\n",
    "#POSITIVE INDEXING\n",
    "\n",
    "print(len(alist))\n",
    "\n",
    "print(alist[0])\n",
    "print(alist[0:5])\n",
    "print(alist[:5])\n",
    "print(alist[2:6])\n",
    "print(alist[:])\n",
    "print(alist[::])\n",
    "print(alist[::2])\n",
    "print(alist[2:6:2])"
   ]
  },
  {
   "cell_type": "code",
   "execution_count": null,
   "metadata": {},
   "outputs": [],
   "source": [
    "# NEGATIVE INDEXING\n",
    "print(alist[::-1]) # reverse list elements\n",
    "# most frequently asked Q , 1 method \n",
    "print(alist[-8:-4])\n",
    "print(alist[-8::1])\n",
    "print(alist[-8::-1]) #-8-(-1)=-8+1=-7\n",
    "print(alist[-8::-1])"
   ]
  },
  {
   "cell_type": "markdown",
   "metadata": {},
   "source": [
    "# List Methods\n",
    "\n",
    "Python has a set of built-in methods that you can use on lists.\n"
   ]
  },
  {
   "cell_type": "markdown",
   "metadata": {},
   "source": [
    "### Method\t    Description\n",
    "\n",
    "1) append()\tAdds an element at the end of the list\n",
    "\n",
    "2) clear()\tRemoves all the elements from the list\n",
    "\n",
    "3) copy()\tReturns a copy of the list\n",
    "\n",
    "4) count()\tReturns the number of elements with the specified value\n",
    "\n",
    "5) extend()\tAdd the elements of a list (or any iterable), to the end of the current list\n",
    "\n",
    "6) index()\tReturns the index of the first element with the specified value\n",
    "\n",
    "7) insert()\tAdds an element at the specified position\n",
    "\n",
    "8) pop()\tRemoves the element at the specified position\n",
    "\n",
    "9) remove()\tRemoves the item with the specified value\n",
    "\n",
    "10) reverse()\tReverses the order of the list\n",
    "\n",
    "11) sort()\tSorts the list"
   ]
  },
  {
   "cell_type": "code",
   "execution_count": null,
   "metadata": {},
   "outputs": [],
   "source": [
    "# 1) append() Adds an element at the end of the list\n",
    "\n",
    "#Add Item : To add an item to the end of the list, use the append() method:\n",
    "alist.append('hello')\n",
    "print(alist)"
   ]
  },
  {
   "cell_type": "code",
   "execution_count": null,
   "metadata": {},
   "outputs": [],
   "source": [
    "#################### Join Two Lists ####################################\n",
    "\n",
    "#There are several ways to join, or concatenate, two or more lists in Python.\n",
    "\n",
    "# (1) of the easiest ways are by using the + operator.\n",
    "\n",
    "list3=alist+blist\n",
    "print(list3)\n",
    "\n",
    "# (2) Another way to join two lists are by appending all the items from list2 into list1, one by one:\n",
    "\n",
    "for x in clist:\n",
    "    alist.append(x)\n",
    "    \n",
    "    \n",
    "print(alist)"
   ]
  },
  {
   "cell_type": "code",
   "execution_count": null,
   "metadata": {},
   "outputs": [],
   "source": [
    "# or can use extend \n",
    "\n",
    "# 5) extend()\tAdd the elements of a list (or any iterable), to the end of the current list\n",
    "print('alist:',alist)\n",
    "print('blist:',blist)\n",
    "alist.extend(blist)\n",
    "\n",
    "print('extend/new alist=',alist)"
   ]
  },
  {
   "cell_type": "code",
   "execution_count": null,
   "metadata": {},
   "outputs": [],
   "source": [
    "# 2) clear()\tRemoves all the elements from the list\n",
    "\n",
    "print(dlist)\n",
    "\n",
    "\n",
    "dlist.clear()\n",
    "print(dlist)"
   ]
  },
  {
   "cell_type": "code",
   "execution_count": null,
   "metadata": {},
   "outputs": [],
   "source": [
    "#3) copy()\tReturns a copy of the list\n",
    "\n",
    "\n",
    "# Copy a List\n",
    "\n",
    "# You cannot copy a list simply by typing list2 = list1, because: list2 will only be a reference to list1, \n",
    "# and changes made in list1 will automatically also be made in list2.\n",
    "\n",
    "# There are ways to make a copy, one way is to use the built-in List method copy().\n",
    "\n",
    "\n",
    "# Make a copy of a list with the copy() method:\n",
    "\n",
    "print(' this is blist:',blist)\n",
    "\n",
    "mylist = blist.copy()\n",
    "print(mylist)\n",
    "\n",
    "\n",
    "# Another way to make a copy is to use the built-in method list().\n",
    "\n",
    "print('and this is clist:',clist)\n",
    "\n",
    "my_list1 = list(clist)\n",
    "print(clist)\n",
    "\n",
    "#The list() Constructor\n",
    "#It is also possible to use the list() constructor to make a new list\n",
    "\n",
    "# list4 = list('cherry','grape')\n",
    "\n",
    "list4= list(('apple','banana')) # double round-bracket\n",
    "print(list4)"
   ]
  },
  {
   "cell_type": "code",
   "execution_count": null,
   "metadata": {},
   "outputs": [],
   "source": [
    "# 4) count()\tReturns the number of elements with the specified value\n",
    "print(alist)\n",
    "\n",
    "alist.count(20)"
   ]
  },
  {
   "cell_type": "code",
   "execution_count": null,
   "metadata": {},
   "outputs": [],
   "source": [
    "# 6) index()\tReturns the index of the first element with the specified value\n",
    "\n",
    "print('clist =', clist)\n",
    "clist.index('python')\n",
    "clist.index(30)"
   ]
  },
  {
   "cell_type": "code",
   "execution_count": null,
   "metadata": {},
   "outputs": [],
   "source": [
    "# 7) insert()\tAdds an element at the specified position\n",
    "clist.insert(6,'50')\n",
    "clist"
   ]
  },
  {
   "cell_type": "code",
   "execution_count": null,
   "metadata": {},
   "outputs": [],
   "source": [
    "# 8) pop()\tRemoves the element at the specified position\n",
    "print('clist =',clist)\n",
    "clist.pop(4)\n",
    "clist"
   ]
  },
  {
   "cell_type": "code",
   "execution_count": null,
   "metadata": {},
   "outputs": [],
   "source": [
    "# 9) remove()\tRemoves the item with the specified value\n",
    "print('clist =', clist)\n",
    "clist.remove(10)\n",
    "clist"
   ]
  },
  {
   "cell_type": "code",
   "execution_count": null,
   "metadata": {},
   "outputs": [],
   "source": [
    "# 10) reverse()\tReverses the order of the list\n",
    "print('blist =', blist)\n",
    "blist.reverse()\n",
    "blist"
   ]
  },
  {
   "cell_type": "code",
   "execution_count": null,
   "metadata": {},
   "outputs": [],
   "source": [
    "# 11) sort()\tSorts the list\n",
    "print('blist =', blist)\n",
    "blist.sort()\n",
    "blist"
   ]
  },
  {
   "cell_type": "code",
   "execution_count": null,
   "metadata": {},
   "outputs": [],
   "source": [
    "# gives error\n",
    "# not supported between instances of 'int' and 'str\n",
    "print('alist =', alist)\n",
    "#alist.sort()\n",
    "#vbnalist"
   ]
  },
  {
   "cell_type": "markdown",
   "metadata": {},
   "source": [
    "# TUPLE\n",
    "A tuple is a collection which is ordered and unchangeable. In Python tuples are written with round brackets.\n",
    "# ()"
   ]
  },
  {
   "cell_type": "code",
   "execution_count": null,
   "metadata": {},
   "outputs": [],
   "source": [
    "atup=('a','b','c','d','e','f',\"g\",\"h\")\n",
    "btup=(10,20,30,40,50,60,70,80,90,100)\n",
    "ctup=(100,200,300,400,'i','j','k','l')\n",
    "print(atup)\n"
   ]
  },
  {
   "cell_type": "code",
   "execution_count": null,
   "metadata": {},
   "outputs": [],
   "source": [
    "#Immutable / Read Only / Unchangable\n",
    "#we cannot change tuple item value\n",
    "atup[0] ='25'\n",
    "print(atup)"
   ]
  },
  {
   "cell_type": "code",
   "execution_count": null,
   "metadata": {},
   "outputs": [],
   "source": [
    "############################## How to change or modify a tuple indirectly ##################################\n",
    "\n",
    "# once a tuple is created, we cannot change its values, tuples are unchangeable, or immutable, but we can convert a tuple into\n",
    "# list, change that list, and convert the list back into tuple\n",
    "\n",
    "y=list(atup)\n",
    "y"
   ]
  },
  {
   "cell_type": "code",
   "execution_count": null,
   "metadata": {},
   "outputs": [],
   "source": [
    "y[1]= 'z'\n",
    "x = tuple(y)\n",
    "x"
   ]
  },
  {
   "cell_type": "code",
   "execution_count": null,
   "metadata": {},
   "outputs": [],
   "source": [
    "################ Access Tuple Items #####################\n",
    "\n",
    "\n",
    "# You can access tuple items by referring to the index number, inside square brackets:\n",
    "print(atup[4])"
   ]
  },
  {
   "cell_type": "code",
   "execution_count": null,
   "metadata": {},
   "outputs": [],
   "source": [
    "##################### join two or more tuple ##############\n",
    "sum_tup=atup+btup\n",
    "print(sum_tup)"
   ]
  },
  {
   "cell_type": "markdown",
   "metadata": {},
   "source": [
    "### Tuple Methods\n",
    "\n",
    "python has 2 built-in methods for tuple\n",
    "\n",
    "1) count() ---> returns the number of times a specified value occurs in a tuple\n",
    "\n",
    "2) index()  ---> search the tuple foe a specified value and returns th position of where it was found"
   ]
  },
  {
   "cell_type": "code",
   "execution_count": null,
   "metadata": {},
   "outputs": [],
   "source": [
    "count(atup)."
   ]
  },
  {
   "cell_type": "code",
   "execution_count": null,
   "metadata": {},
   "outputs": [],
   "source": []
  },
  {
   "cell_type": "markdown",
   "metadata": {},
   "source": [
    "# SET"
   ]
  },
  {
   "cell_type": "code",
   "execution_count": null,
   "metadata": {},
   "outputs": [],
   "source": []
  },
  {
   "cell_type": "code",
   "execution_count": null,
   "metadata": {},
   "outputs": [],
   "source": []
  },
  {
   "cell_type": "code",
   "execution_count": null,
   "metadata": {},
   "outputs": [],
   "source": []
  },
  {
   "cell_type": "code",
   "execution_count": null,
   "metadata": {},
   "outputs": [],
   "source": []
  },
  {
   "cell_type": "code",
   "execution_count": null,
   "metadata": {},
   "outputs": [],
   "source": []
  },
  {
   "cell_type": "code",
   "execution_count": null,
   "metadata": {},
   "outputs": [],
   "source": []
  },
  {
   "cell_type": "markdown",
   "metadata": {},
   "source": [
    "# DICTIONARY\n",
    "A dictionary is a collection which is unordered, changeable and indexed. In Python dictionaries are written with curly brackets, and they have keys and values.\n",
    "# {}\n",
    "\n",
    "### SYNTAX: Object={key:value ,key:value, key:value} "
   ]
  },
  {
   "cell_type": "code",
   "execution_count": 20,
   "metadata": {},
   "outputs": [
    {
     "name": "stdout",
     "output_type": "stream",
     "text": [
      "{'chapt1': 10, 'chapt2': 20, 'chapt3': 30}\n",
      "<class 'dict'>\n",
      "<class 'dict'>\n"
     ]
    }
   ],
   "source": [
    "adict={\"chapt1\":10, \"chapt2\":20, \"chapt3\":30}\n",
    "bdict={'banana':'yellow','apple':'red','lichi':'white','kiwi':'green'}\n",
    "print(adict)\n",
    "print(type(adict))\n",
    "print(type(bdict))"
   ]
  },
  {
   "cell_type": "code",
   "execution_count": null,
   "metadata": {},
   "outputs": [],
   "source": []
  },
  {
   "cell_type": "code",
   "execution_count": 2,
   "metadata": {},
   "outputs": [],
   "source": [
    "# complex types of Dictionary\n",
    "bdict={}"
   ]
  },
  {
   "cell_type": "code",
   "execution_count": 3,
   "metadata": {},
   "outputs": [
    {
     "name": "stdout",
     "output_type": "stream",
     "text": [
      "30\n",
      "20\n"
     ]
    }
   ],
   "source": [
    "######################## Accessing Items ##########################\n",
    "\n",
    "# we can access the items of a dictionary by referring to its key name, inside square brackets:\n",
    "\n",
    "\n",
    "w=adict['chapt3']\n",
    "print(w)\n",
    "\n",
    "# or\n",
    "\n",
    "p=adict.get('chapt2')\n",
    "print(p)"
   ]
  },
  {
   "cell_type": "code",
   "execution_count": 4,
   "metadata": {},
   "outputs": [
    {
     "name": "stdout",
     "output_type": "stream",
     "text": [
      "{'chapt1': 50, 'chapt2': 20, 'chapt3': 30}\n"
     ]
    }
   ],
   "source": [
    "adict={\"chapt1\":10, \"chapt2\":20,\"chapt1\":50, \"chapt3\":30}\n",
    "print(adict)\n",
    "# key is used to identify the value so it assign chapt1 key value as 50 "
   ]
  },
  {
   "cell_type": "code",
   "execution_count": 5,
   "metadata": {},
   "outputs": [
    {
     "data": {
      "text/plain": [
       "{'chapt1': 10, 'chapt2': 20, 'chapt3': 30}"
      ]
     },
     "execution_count": 5,
     "metadata": {},
     "output_type": "execute_result"
    }
   ],
   "source": [
    "adict['chapt1']=10\n",
    "adict"
   ]
  },
  {
   "cell_type": "code",
   "execution_count": 6,
   "metadata": {},
   "outputs": [
    {
     "data": {
      "text/plain": [
       "{'chapt1': 10, 'chapt2': 20, 'chapt3': 30, 'chapt5': 50}"
      ]
     },
     "execution_count": 6,
     "metadata": {},
     "output_type": "execute_result"
    }
   ],
   "source": [
    "########################################### Adding Items in a Dictionary ########################################\n",
    "\n",
    "adict['chapt5']=50\n",
    "adict"
   ]
  },
  {
   "cell_type": "code",
   "execution_count": 7,
   "metadata": {},
   "outputs": [
    {
     "data": {
      "text/plain": [
       "{'chapt2': 20, 'chapt3': 30, 'chapt5': 50}"
      ]
     },
     "execution_count": 7,
     "metadata": {},
     "output_type": "execute_result"
    }
   ],
   "source": [
    "##################### Removing Items #######################################\n",
    "\n",
    "\n",
    "# 1) pop('key') ---> removes mentioned key value\n",
    "adict.pop('chapt1')\n",
    "adict"
   ]
  },
  {
   "cell_type": "code",
   "execution_count": 8,
   "metadata": {},
   "outputs": [
    {
     "data": {
      "text/plain": [
       "{'chapt2': 20, 'chapt3': 30}"
      ]
     },
     "execution_count": 8,
     "metadata": {},
     "output_type": "execute_result"
    }
   ],
   "source": [
    "# 2) popitem() ---> it removes the last item (in version 3.7 a random item is removed)\n",
    "\n",
    "adict.popitem()\n",
    "adict"
   ]
  },
  {
   "cell_type": "code",
   "execution_count": 10,
   "metadata": {},
   "outputs": [
    {
     "data": {
      "text/plain": [
       "{'chapt3': 30}"
      ]
     },
     "execution_count": 10,
     "metadata": {},
     "output_type": "execute_result"
    }
   ],
   "source": [
    "# 3) del dict['key']\n",
    "print(adict)\n",
    "del adict['chapt2']\n",
    "adict"
   ]
  },
  {
   "cell_type": "code",
   "execution_count": 15,
   "metadata": {},
   "outputs": [
    {
     "ename": "NameError",
     "evalue": "name 'adict' is not defined",
     "output_type": "error",
     "traceback": [
      "\u001b[1;31m---------------------------------------------------------------------------\u001b[0m",
      "\u001b[1;31mNameError\u001b[0m                                 Traceback (most recent call last)",
      "\u001b[1;32m<ipython-input-15-63a381b0a349>\u001b[0m in \u001b[0;36m<module>\u001b[1;34m\u001b[0m\n\u001b[1;32m----> 1\u001b[1;33m \u001b[1;32mdel\u001b[0m \u001b[0madict\u001b[0m\u001b[1;33m\u001b[0m\u001b[1;33m\u001b[0m\u001b[0m\n\u001b[0m\u001b[0;32m      2\u001b[0m \u001b[0madict\u001b[0m\u001b[1;33m\u001b[0m\u001b[1;33m\u001b[0m\u001b[0m\n",
      "\u001b[1;31mNameError\u001b[0m: name 'adict' is not defined"
     ]
    }
   ],
   "source": [
    "# we can del whole dict as well\n",
    "print(adict)\n",
    "del adict\n",
    "adict"
   ]
  },
  {
   "cell_type": "code",
   "execution_count": 18,
   "metadata": {},
   "outputs": [
    {
     "name": "stdout",
     "output_type": "stream",
     "text": [
      "{'banana': 'yellow', 'apple': 'red', 'lichi': 'white', 'kiwi': 'green'}\n",
      "{'banana': 'yellow', 'apple': 'red', 'lichi': 'white', 'kiwi': 'green'}\n"
     ]
    }
   ],
   "source": [
    "############ Copy A Dictionary ##############\n",
    "\n",
    "# we cant copy a dict by typing dict2=dict1 \n",
    "# because dict 2 is only reference to dict1 and changes made in dict1 will be automatically done in dict2\n",
    "\n",
    "# 1) copy()\n",
    "\n",
    "mydict=bdict.copy()\n",
    "print(mydict)\n",
    "print(bdict)"
   ]
  },
  {
   "cell_type": "code",
   "execution_count": 19,
   "metadata": {},
   "outputs": [
    {
     "name": "stdout",
     "output_type": "stream",
     "text": [
      "{'banana': 'yellow', 'apple': 'red', 'lichi': 'white', 'kiwi': 'green'}\n"
     ]
    }
   ],
   "source": [
    "# 2) dict()\n",
    "\n",
    "mydict2=dict(bdict)\n",
    "print(mydict2)"
   ]
  },
  {
   "cell_type": "code",
   "execution_count": null,
   "metadata": {},
   "outputs": [],
   "source": []
  }
 ],
 "metadata": {
  "kernelspec": {
   "display_name": "Python 3",
   "language": "python",
   "name": "python3"
  },
  "language_info": {
   "codemirror_mode": {
    "name": "ipython",
    "version": 3
   },
   "file_extension": ".py",
   "mimetype": "text/x-python",
   "name": "python",
   "nbconvert_exporter": "python",
   "pygments_lexer": "ipython3",
   "version": "3.7.1"
  }
 },
 "nbformat": 4,
 "nbformat_minor": 4
}
